{
 "cells": [
  {
   "cell_type": "code",
   "execution_count": 1,
   "metadata": {},
   "outputs": [],
   "source": [
    "import os\n",
    "import urllib.request\n",
    "import zipfile\n",
    "import pandas as pd\n",
    "import dask.dataframe as dd"
   ]
  },
  {
   "cell_type": "code",
   "execution_count": null,
   "metadata": {},
   "outputs": [],
   "source": [
    "## Donwload file and unzip in cwd\n",
    "url = 'https://gist.github.com/nziehn/b2cff6d3a22a2dc906b6736356a5a1f5/archive/fd1dacca7bc662cb0fb482570cfcc82d33af3226.zip'\n",
    "urllib.request.urlretrieve(url, os.path.join(os.getcwd(), 'homelike.zip'))\n",
    "with zipfile.ZipFile(\"homelike.zip\",\"r\") as zip_ref:\n",
    "    zip_ref.extractall(os.getcwd())"
   ]
  },
  {
   "cell_type": "code",
   "execution_count": 2,
   "metadata": {},
   "outputs": [],
   "source": [
    "## Import conversion data file to dataframe and export back to parquet to be\n",
    "conversion_df = dd.read_csv('conversion_data_large.csv', parse_dates= ['timestamp'])"
   ]
  },
  {
   "cell_type": "code",
   "execution_count": 19,
   "metadata": {},
   "outputs": [],
   "source": [
    "class getConversion():\n",
    "    def __init__(self, conversion_df):\n",
    "        self.conversion_df = conversion_df\n",
    "    \n",
    "    ## Get Values to calculate conversion rate\n",
    "    def getConversion(self, page_num):\n",
    "        conversion_df_mod = self.conversion_df.copy()\n",
    "        if page_num:\n",
    "            ## Get series of sessions that started on page_num\n",
    "            \n",
    "            \n",
    "            conversion_df_mod['session_time_rank'] = conversion_df_mod.groupby(['session_id'])['timestamp'].rank(method='first',ascending=True)\n",
    "            session_series = conversion_df_mod['session_id'].loc[(conversion_df_mod['session_time_rank'] == 1) & (conversion_df_mod['page_id'] == page_num)]\n",
    "            conversion_df_mod = self.conversion_df.loc[self.conversion_df['session_id'].isin(session_series)]\n",
    "            \n",
    "        extract_values = conversion_df_mod.event_type.value_counts().compute()\n",
    "        \n",
    "        conversions = extract_values.get('conversion')\n",
    "        unique_users = conversion_df_mod['session_id'].nunique()\n",
    "        return (conversions/unique_users)\n",
    "\n",
    "        \n",
    "    def sortData(self):\n",
    "        self.conversion_df.sort_values(by=['page_id', 'session_id'])\n",
    "        \n",
    "#     def mostEffective(self, param):\n",
    "#         ## Group data by param and filter out only conversions\n",
    "#         param_df = self.conversion_df[[param, 'event_type']].groupby([param, 'event_type'])['event_type'].agg(['count']).reset_index()\n",
    "#         param_conversions_df = param_df.loc[param_df['event_type'] == 'conversion']\n",
    "        \n",
    "#         ## Find unique sessions within each campaign \n",
    "#         unique_sessions_df = self.conversion_df[[param, 'session_id']].groupby([param])['session_id'].nunique()\n",
    "        \n",
    "#         ## Merge Dataframes into one\n",
    "#         param_conversion = param_conversions_df.merge(unique_sessions_df, left_on=param, right_on=param)\n",
    "\n",
    "#         ##Calculate Conversion rates for each campaign \n",
    "#         param_conversion['conversion_rate'] = param_conversion['count']/param_conversion['session_id']\n",
    "#         param_conversion_filtered = param_conversion[param_conversion['session_id'] >= 50]\n",
    "\n",
    "#         return param_conversion_filtered\n",
    "        \n"
   ]
  },
  {
   "cell_type": "code",
   "execution_count": 17,
   "metadata": {},
   "outputs": [],
   "source": [
    "def main():\n",
    "    conversion_class = getConversion(conversion_df)\n",
    "#     campaign_conversions = conversion_class.mostEffective('campaign_id')\n",
    "#     device_conversions = conversion_class.mostEffective('device_type')\n",
    "\n",
    "#     campaign_conversions.sort_values(by=['conversion_rate'], ascending=False).to_csv('campaign_conversions.csv')\n",
    "#     device_conversions.sort_values(by=['conversion_rate'], ascending=False).to_csv('device_conversions.csv')\n",
    "    print(conversion_class.getConversion(None))\n",
    "#     print(conversion_class.getConversion(4903628644844587131))\n",
    "#     conversion_class.sortData()"
   ]
  },
  {
   "cell_type": "code",
   "execution_count": 20,
   "metadata": {
    "scrolled": false
   },
   "outputs": [
    {
     "name": "stdout",
     "output_type": "stream",
     "text": [
      "0.7622447323891426\n"
     ]
    }
   ],
   "source": [
    "if __name__== \"__main__\":\n",
    "    main()"
   ]
  }
 ],
 "metadata": {
  "kernelspec": {
   "display_name": "Python 3",
   "language": "python",
   "name": "python3"
  },
  "language_info": {
   "codemirror_mode": {
    "name": "ipython",
    "version": 3
   },
   "file_extension": ".py",
   "mimetype": "text/x-python",
   "name": "python",
   "nbconvert_exporter": "python",
   "pygments_lexer": "ipython3",
   "version": "3.6.8"
  }
 },
 "nbformat": 4,
 "nbformat_minor": 2
}
