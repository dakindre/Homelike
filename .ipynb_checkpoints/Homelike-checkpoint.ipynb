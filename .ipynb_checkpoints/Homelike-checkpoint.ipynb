{
 "cells": [
  {
   "cell_type": "code",
   "execution_count": 1,
   "metadata": {},
   "outputs": [],
   "source": [
    "import os\n",
    "import urllib.request\n",
    "import zipfile\n",
    "import pandas as pd"
   ]
  },
  {
   "cell_type": "code",
   "execution_count": 3,
   "metadata": {},
   "outputs": [
    {
     "data": {
      "text/plain": [
       "('C:\\\\Users\\\\dakin\\\\Documents\\\\Development\\\\Homelike\\\\homelike.zip',\n",
       " <http.client.HTTPMessage at 0x1ee2c551048>)"
      ]
     },
     "execution_count": 3,
     "metadata": {},
     "output_type": "execute_result"
    }
   ],
   "source": [
    "## Donwload file and unzip in cwd\n",
    "url = 'https://gist.github.com/nziehn/b2cff6d3a22a2dc906b6736356a5a1f5/archive/fd1dacca7bc662cb0fb482570cfcc82d33af3226.zip'\n",
    "urllib.request.urlretrieve(url, os.path.join(os.getcwd(), 'homelike.zip'))\n",
    "with zipfile.ZipFile(\"homelike.zip\",\"r\") as zip_ref:\n",
    "    zip_ref.extractall(os.getcwd())"
   ]
  },
  {
   "cell_type": "code",
   "execution_count": 2,
   "metadata": {},
   "outputs": [],
   "source": [
    "## Import conversion data file to dataframe\n",
    "conversion_df = pd.read_csv('conversion_data.csv', parse_dates= ['timestamp'])"
   ]
  },
  {
   "cell_type": "code",
   "execution_count": 111,
   "metadata": {},
   "outputs": [],
   "source": [
    "class getConversion():\n",
    "    def __init__(self, conversion_df):\n",
    "        self.conversion_df = conversion_df\n",
    "    \n",
    "    ## Get Values to calculate conversion rate\n",
    "    def getConversion(self, page_num):\n",
    "        conversion_df_mod = self.conversion_df.copy()\n",
    "        if page_num:\n",
    "            ## Get series of sessions that started on page_num\n",
    "            conversion_df_mod['session_time_rank'] = conversion_df_mod.groupby(['session_id'])['timestamp'].rank(method='first',ascending=True)\n",
    "            session_series = conversion_df_mod['session_id'].loc[(conversion_df_mod['session_time_rank'] == 1) & (conversion_df_mod['page_id'] == page_num)]\n",
    "            conversion_df_mod = self.conversion_df.loc[self.conversion_df['session_id'].isin(session_series)]\n",
    "            \n",
    "        extract_values = conversion_df_mod['event_type'].value_counts()\n",
    "        conversions = extract_values.get('conversion')\n",
    "        unique_users = conversion_df_mod['session_id'].nunique()\n",
    "        return (conversions/unique_users)\n",
    "        \n",
    "    def sortData(self):\n",
    "        self.conversion_df.sort_values(by=['page_id', 'session_id'])\n",
    "        \n",
    "    def mostEffective(self, param):\n",
    "        ## Group data by param and filter out only conversions\n",
    "        param_df = self.conversion_df[[param, 'event_type']].groupby([param, 'event_type'])['event_type'].agg(['count']).reset_index()\n",
    "        param_conversions_df = param_df.loc[param_df['event_type'] == 'conversion']\n",
    "        \n",
    "        ## Find unique sessions within each campaign \n",
    "        unique_sessions_df = self.conversion_df[[param, 'session_id']].groupby([param])['session_id'].nunique()\n",
    "        \n",
    "        ## Merge Dataframes into one\n",
    "        param_conversion = param_conversions_df.merge(unique_sessions_df, left_on=param, right_on= param)\n",
    "\n",
    "        ##Calculate Conversion rates for each campaign \n",
    "        param_conversion['conversion_rate'] = param_conversion['count']/param_conversion['session_id']\n",
    "        param_conversion_filtered = param_conversion[param_conversion['session_id'] >= 50]\n",
    "\n",
    "        return param_conversion_filtered[:10]\n",
    "        \n",
    "\n",
    "  "
   ]
  },
  {
   "cell_type": "code",
   "execution_count": 112,
   "metadata": {},
   "outputs": [
    {
     "name": "stdout",
     "output_type": "stream",
     "text": [
      "     campaign_id  event_type  count  session_id  conversion_rate\n",
      "2   2.159523e+18  conversion   6527        5080         1.284843\n",
      "11  3.845322e+18  conversion    192         165         1.163636\n",
      "7   2.552109e+18  conversion   1373        1793         0.765756\n",
      "8   2.615419e+18  conversion    336         480         0.700000\n",
      "5   2.468053e+18  conversion     34          55         0.618182\n",
      "4   2.342568e+18  conversion   3869        6643         0.582418\n",
      "9   2.630668e+18  conversion     42          84         0.500000\n",
      "6   2.512930e+18  conversion     33         105         0.314286\n",
      "0   1.200461e+18  conversion     12          76         0.157895\n",
      "10  3.688431e+18  conversion      1          59         0.016949\n",
      "  device_type  event_type  count  session_id  conversion_rate\n",
      "3      tablet  conversion   8084        9317         0.867661\n",
      "2       phone  conversion  54392       69035         0.787890\n",
      "0     desktop  conversion  36132       47674         0.757897\n",
      "1       other  conversion     44        3428         0.012835\n"
     ]
    }
   ],
   "source": [
    "conversion_class = getConversion(conversion_df)\n",
    "campaign_conversions = conversion_class.mostEffective('campaign_id')\n",
    "device_conversions = conversion_class.mostEffective('device_type')\n",
    "\n",
    "print(campaign_conversions.sort_values(by=['conversion_rate'], ascending=False))\n",
    "print(device_conversions.sort_values(by=['conversion_rate'], ascending=False))"
   ]
  },
  {
   "cell_type": "code",
   "execution_count": null,
   "metadata": {},
   "outputs": [],
   "source": []
  },
  {
   "cell_type": "code",
   "execution_count": 50,
   "metadata": {},
   "outputs": [],
   "source": [
    "print(conversion_class.getConversion(None))\n",
    "print(conversion_class.getConversion(4903628644844587131))\n",
    "conversion_class.sortData()"
   ]
  }
 ],
 "metadata": {
  "kernelspec": {
   "display_name": "Python 3",
   "language": "python",
   "name": "python3"
  },
  "language_info": {
   "codemirror_mode": {
    "name": "ipython",
    "version": 3
   },
   "file_extension": ".py",
   "mimetype": "text/x-python",
   "name": "python",
   "nbconvert_exporter": "python",
   "pygments_lexer": "ipython3",
   "version": "3.6.8"
  }
 },
 "nbformat": 4,
 "nbformat_minor": 2
}
